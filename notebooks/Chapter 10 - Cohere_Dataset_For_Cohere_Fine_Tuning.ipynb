{
  "nbformat": 4,
  "nbformat_minor": 0,
  "metadata": {
    "colab": {
      "provenance": [],
      "authorship_tag": "ABX9TyOPHu7S6DtYH8pxdgVFtm+3",
      "include_colab_link": true
    },
    "kernelspec": {
      "name": "python3",
      "display_name": "Python 3"
    },
    "language_info": {
      "name": "python"
    }
  },
  "cells": [
    {
      "cell_type": "markdown",
      "metadata": {
        "id": "view-in-github",
        "colab_type": "text"
      },
      "source": [
        "<a href=\"https://colab.research.google.com/github/towardsai/ragbook-notebooks/blob/main/notebooks/Chapter%2010%20-%20Cohere_Dataset_For_Cohere_Fine_Tuning.ipynb\" target=\"_parent\"><img src=\"https://colab.research.google.com/assets/colab-badge.svg\" alt=\"Open In Colab\"/></a>"
      ]
    },
    {
      "cell_type": "code",
      "source": [
        "import json"
      ],
      "metadata": {
        "id": "ttUWh0ojOHnw"
      },
      "execution_count": null,
      "outputs": []
    },
    {
      "cell_type": "code",
      "source": [
        "chemicals = True\n",
        "diseases = True\n",
        "\n",
        "if chemicals and diseases: output = \"both\"\n",
        "elif chemicals: output = \"chemical\"\n",
        "elif diseases: output = \"disease\""
      ],
      "metadata": {
        "id": "Pzl9rdzEAR8r"
      },
      "execution_count": null,
      "outputs": []
    },
    {
      "cell_type": "code",
      "source": [
        "!wget https://raw.githubusercontent.com/towardsai/rag-ebook-files/main/bc5cdr.json"
      ],
      "metadata": {
        "id": "ioswvNcj0cDq"
      },
      "execution_count": null,
      "outputs": []
    },
    {
      "cell_type": "code",
      "source": [
        "with open('bc5cdr.json') as json_file:\n",
        "    data = json.load(json_file)"
      ],
      "metadata": {
        "id": "ugqgWcnsykAX"
      },
      "execution_count": null,
      "outputs": []
    },
    {
      "cell_type": "code",
      "source": [
        "train = 0\n",
        "test = 0\n",
        "develop = 0\n",
        "for item in data:\n",
        "  if item['dataset_type'] == \"train\": train+=1\n",
        "  if item['dataset_type'] == \"test\": test+=1\n",
        "  if item['dataset_type'] == \"develop\": develop+=1\n",
        "\n",
        "print(train, test, develop)"
      ],
      "metadata": {
        "colab": {
          "base_uri": "https://localhost:8080/"
        },
        "id": "aSByWlK1ywwo",
        "outputId": "6ce140f8-d41a-40a8-9fef-e4715985a690"
      },
      "execution_count": null,
      "outputs": [
        {
          "output_type": "stream",
          "name": "stdout",
          "text": [
            "500 500 500\n"
          ]
        }
      ]
    },
    {
      "cell_type": "markdown",
      "source": [
        "# Get Diseases/Chemicals"
      ],
      "metadata": {
        "id": "bg1zmJIg567d"
      }
    },
    {
      "cell_type": "code",
      "source": [
        "instruction = \"The following article contains technical terms including diseases, drugs and chemicals. Create a list only of the {} mentioned.\\n\\n\"\n",
        "outstruction = \"\\n\\nList of extracted {}:\\n\""
      ],
      "metadata": {
        "id": "CtTh6-yF6m4x"
      },
      "execution_count": null,
      "outputs": []
    },
    {
      "cell_type": "code",
      "source": [
        "the_list = []\n",
        "for item in data:\n",
        "  chems = []\n",
        "  dis = []\n",
        "\n",
        "  if item['dataset_type'] == \"test\": continue;\n",
        "\n",
        "  for ent in item['passages'][1]['entities']:\n",
        "    if ent['type'] == \"Chemical\":\n",
        "      if ent['text'][0] not in chems:\n",
        "        chems.append( ent['text'][0] )\n",
        "\n",
        "    if ent['type'] == \"Disease\":\n",
        "      if ent['text'][0] not in dis:\n",
        "        dis.append( ent['text'][0] )\n",
        "\n",
        "  if chemicals: the_list.append({'prompt': instruction.format(\"chemicals\") + item['passages'][1]['text'] + outstruction.format(\"chemicals\"), 'completion': \"- \"+ \"\\n- \".join(chems)})\n",
        "  if diseases: the_list.append({'prompt': instruction.format(\"diseases\") + item['passages'][1]['text'] + outstruction.format(\"diseases\"), 'completion': \"- \"+ \"\\n- \".join(dis)})"
      ],
      "metadata": {
        "id": "7c5vtBfm2ePM"
      },
      "execution_count": null,
      "outputs": []
    },
    {
      "cell_type": "markdown",
      "source": [
        "# Get Relationships"
      ],
      "metadata": {
        "id": "sqqlDfEI56QC"
      }
    },
    {
      "cell_type": "code",
      "source": [
        "instruction = \"The following article contains technical terms including diseases, drugs and chemicals. Create a list only of the influences between the chemicals and diseases mentioned.\\n\\n\"\n",
        "outstruction = \"\\n\\nList of extracted influences:\\n\""
      ],
      "metadata": {
        "id": "13YPqlxTK7QI"
      },
      "execution_count": null,
      "outputs": []
    },
    {
      "cell_type": "code",
      "source": [
        "the_list_rel = []\n",
        "for item in data:\n",
        "  if item['dataset_type'] == \"test\": continue;\n",
        "\n",
        "  the_relations = []\n",
        "  for rel in item['passages'][1]['relations']:\n",
        "    chem_found = False\n",
        "    dis_found = False\n",
        "    chem = None\n",
        "    dis = None\n",
        "    for ent in item['passages'][0]['entities'] + item['passages'][1]['entities']:\n",
        "      if len( ent['normalized'] ):\n",
        "        if rel['arg1_id'] == ent['normalized'][0]['db_id'] and not chem_found: # Chemical\n",
        "          chem = ent['text'][0]\n",
        "          chem_found = True\n",
        "\n",
        "        if rel['arg2_id'] == ent['normalized'][0]['db_id'] and not dis_found: # Disease\n",
        "          dis_found = True\n",
        "          dis = ent['text'][0]\n",
        "\n",
        "    the_relations.append( f\"- Chemical {chem} influences disease {dis}\" )\n",
        "\n",
        "  the_list_rel.append( {\"prompt\": instruction + item['passages'][1]['text'] + outstruction, \"completion\": \"\\n\".join(the_relations)} )"
      ],
      "metadata": {
        "id": "cViLt2aJ5_YP"
      },
      "execution_count": null,
      "outputs": []
    },
    {
      "cell_type": "code",
      "source": [
        "the_list = the_list + the_list_rel"
      ],
      "metadata": {
        "id": "fwQL1Nj8Rg7E"
      },
      "execution_count": null,
      "outputs": []
    },
    {
      "cell_type": "code",
      "source": [
        "len( the_list )"
      ],
      "metadata": {
        "colab": {
          "base_uri": "https://localhost:8080/"
        },
        "id": "Pq25an-5RyW2",
        "outputId": "91067c32-83a6-4305-d223-5ffad70ec44f"
      },
      "execution_count": null,
      "outputs": [
        {
          "output_type": "execute_result",
          "data": {
            "text/plain": [
              "3000"
            ]
          },
          "metadata": {},
          "execution_count": 103
        }
      ]
    },
    {
      "cell_type": "code",
      "source": [
        "# Writing to sample.json\n",
        "with open(f\"{output}_rel_instruct_all.jsonl\", \"w\") as outfile:\n",
        "  for item in the_list:\n",
        "    outfile.write(json.dumps(item) + \"\\n\")"
      ],
      "metadata": {
        "id": "VxpnDPVm2eFc"
      },
      "execution_count": null,
      "outputs": []
    }
  ]
}